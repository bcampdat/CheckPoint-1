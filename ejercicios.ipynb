{
 "cells": [
  {
   "cell_type": "markdown",
   "metadata": {},
   "source": [
    "Asignación de cuadrícula CSS M1C1\n",
    "\n",
    "Durante la primera sección del Módulo 1, habrás revisado la muy útil herramienta CSS Grid. CSS Grid es una herramienta que los desarrolladores pueden utilizar para controlar el diseño y el comportamiento de sus elementos HTML. Estuvo expuesto por primera vez a CSS Grid durante el curso Fundamentos de codificación. Ahora que has revisado y aprendido más sobre CSS Grid durante esta primera sección Full Stack, ¡es hora de practicar! Utilizará HTML y CSS para completar esta tarea. Se espera que cree y edite archivos usando un editor de texto y que use una hoja de estilo externa. Complete la siguiente tarea y comuníquese con la aplicación de soporte para que un mentor revise su trabajo. Si tiene alguna pregunta o necesita ayuda, comuníquese con nosotros para que podamos ayudarlo. Esta tarea debe completarse para aprobar esta sección del trabajo del curso.\n",
    "\n",
    "*Conceptos incluidos en esta tarea: HTML, CSS, cuadrícula CSS, clases HTML, ID de HTML, etiquetas HTML Div, Img y párrafo, color de fondo CSS, color de texto CSS, filas, columnas y unidades fraccionarias de cuadrícula CSS, CSS externo Hojas de estilo y estilos en línea, Google Fonts y Font Awesome.\n"
   ]
  },
  {
   "cell_type": "code",
   "execution_count": null,
   "metadata": {
    "vscode": {
     "languageId": "html"
    }
   },
   "outputs": [],
   "source": [
    "<style>\n",
    "  body {\n",
    "    font-family: \"Times New Roman\", Times, serif;\n",
    "    background-color: #ffffff;\n",
    "    height: max-content;\n",
    "    font-size: 24px;\n",
    "    width: 75%;\n",
    "  }\n",
    "</style>\n"
   ]
  },
  {
   "cell_type": "markdown",
   "metadata": {},
   "source": [
    "Cuadrícula 1:\n",
    "\n",
    "     Crea una etiqueta div con la clase de \"gridOne\".\n",
    "     Cree dos etiquetas de párrafo que digan respectivamente \"Hola mundo\" y \"Mi contenido fantástico\". Esta cuadrícula debe tener dos columnas del mismo tamaño. Utilice un estilo en línea para convertir el texto de la etiqueta del segundo párrafo en azul.\n",
    "\n",
    "Ejemplo:\n",
    "![Cuadricula1](ejemplos/Cuadricula1.png)\n"
   ]
  },
  {
   "cell_type": "code",
   "execution_count": null,
   "metadata": {
    "vscode": {
     "languageId": "html"
    }
   },
   "outputs": [],
   "source": [
    "<div class=\"gridOne\">\n",
    "  <p>Hola mundo</p>\n",
    "  <p>Mi contenido fantástico</p>\n",
    "</div>\n"
   ]
  },
  {
   "cell_type": "code",
   "execution_count": null,
   "metadata": {
    "vscode": {
     "languageId": "html"
    }
   },
   "outputs": [],
   "source": [
    "<style>\n",
    "  .gridOne {\n",
    "    display: grid;\n",
    "    grid-template-columns: 1fr 1fr;\n",
    "  }\n",
    "\n",
    "  .gridOne p:nth-child(2) {\n",
    "    color: #2825f7;\n",
    "  }\n",
    "</style>\n"
   ]
  },
  {
   "cell_type": "markdown",
   "metadata": {},
   "source": [
    "Cuadrícula 2:\n",
    "\n",
    "    Crea otra etiqueta div en el mismo archivo HTML.Asegúrese de que ninguna de las rejillas esté encajada una dentro de la otra.\n",
    "    Dale a este div la clase de \"gridTwo\".\n",
    "    Cree tres divs dentro de gridTwo, esto significa que serán divs secundarios en relación con gridTwo. Asígnales a cada uno una clase única. Agrega una etiqueta de párrafo a cada uno de los divs con el texto que desees.\n",
    "    Cada div secundario debe tener su propio color de fondo diferente. Intente usar rojo, azul y amarillo.\n",
    "    Esta cuadrícula debe tener tres columnas. La tercera columna debe ser dos veces más grande que las dos primeras columnas.\n",
    "    Los colores de fondo le ayudarán a identificar si los tamaños creados por las columnas de su plantilla de cuadrícula son correctos.\n",
    "\n",
    "Ejemplo:\n",
    "![Cuadricula2](ejemplos/Cuadricula2.png)\n"
   ]
  },
  {
   "cell_type": "code",
   "execution_count": null,
   "metadata": {
    "vscode": {
     "languageId": "html"
    }
   },
   "outputs": [],
   "source": [
    "<div class=\"gridTwo\">\n",
    "  <div class=\"Whatever\">\n",
    "    <p>Whatever</p>\n",
    "  </div>\n",
    "  <div class=\"text\">\n",
    "    <p>Text</p>\n",
    "  </div>\n",
    "  <div class=\"Iwant\">\n",
    "    <p>I want</p>\n",
    "  </div>\n",
    "</div>\n"
   ]
  },
  {
   "cell_type": "code",
   "execution_count": null,
   "metadata": {
    "vscode": {
     "languageId": "html"
    }
   },
   "outputs": [],
   "source": [
    "<style>\n",
    "  .gridTwo {\n",
    "    display: grid;\n",
    "    grid-template-columns: 1fr 1fr 2fr;\n",
    "    grid-template-rows: 1fr;\n",
    "    margin: 10px;\n",
    "  }\n",
    "\n",
    "  .gridTwo p {\n",
    "    color: black;\n",
    "    font-weight: bold;\n",
    "    font-size: 40px;\n",
    "  }\n",
    "\n",
    "  .Whatever {\n",
    "    background-color: red;\n",
    "  }\n",
    "\n",
    "  .text {\n",
    "    background-color: blue;\n",
    "  }\n",
    "\n",
    "  .Iwant {\n",
    "    background-color: yellow;\n",
    "  }\n",
    "</style>\n"
   ]
  },
  {
   "cell_type": "markdown",
   "metadata": {},
   "source": [
    "Cuadrícula 3:\n",
    "\n",
    "    Crea otra etiqueta div en el mismo archivo HTML.\n",
    "    Dale a este div la clase de \"gridThree\".\n",
    "    Crea dos divs secundarios dentro de gridThree y dales a ambos una clase única.\n",
    "    El primer div secundario debe contener una etiqueta de párrafo y el segundo debe contener una imagen de su elección.\n",
    "    Esta cuadrícula debe tener dos filas. La segunda fila debe ser tres veces más grande que la primera. Utilice colores de fondo nuevamente para ayudar a que los tamaños sean claros.\n",
    "    Asigne a gridThree un ancho de 500 píxeles y un alto de 300 píxeles.\n",
    "\n",
    "*Asegúrate de darle a la imagen un ancho de 500 píxeles y un alto de 225 píxeles. También deberá asegurarse de que el ajuste del objeto sea igual a la cobertura para que la imagen no se distorsione ni sea demasiado grande para la fila.\n",
    "\n",
    "Ejemplo:\n",
    "![Cuadricula3](ejemplos/Cuadricula3.png)\n",
    "\n",
    "Hielo https://unsplash.com/photos/hSPVuakrJqs\n",
    "![Hielo](ejemplos/images/Hielo.jpg)\n"
   ]
  },
  {
   "cell_type": "code",
   "execution_count": null,
   "metadata": {
    "vscode": {
     "languageId": "html"
    }
   },
   "outputs": [],
   "source": [
    "<div class=\"gridThree\">\n",
    "  <div class=\"cuadrícula3\">\n",
    "    <p>The Text I Chose is Avesome</p>\n",
    "  </div>\n",
    "  <div class=\"cuadrícula3\">\n",
    "    <img src=\"ejemplos/images/Hielo.jpg\" alt=\"\" />\n",
    "  </div>\n",
    "</div>\n"
   ]
  },
  {
   "cell_type": "code",
   "execution_count": null,
   "metadata": {
    "vscode": {
     "languageId": "html"
    }
   },
   "outputs": [],
   "source": [
    "<style>\n",
    "  .gridThree {\n",
    "    display: grid;\n",
    "    background-color: lightgrey;\n",
    "    grid-template-columns: 1fr;\n",
    "    grid-template-rows: 1fr 3fr;\n",
    "    width: 500px;\n",
    "    height: 300px;\n",
    "    margin-top: 10px;\n",
    "  }\n",
    "  .gridThree p {\n",
    "    margin-top: 0%;\n",
    "  }\n",
    "  .gridThree img {\n",
    "    object-fit: cover;\n",
    "    width: 500px;\n",
    "    height: 225px;\n",
    "  }\n",
    "</style>\n"
   ]
  },
  {
   "cell_type": "markdown",
   "metadata": {},
   "source": [
    "Cuadrícula 4:\n",
    "\n",
    "     Crea otra etiqueta div en el mismo archivo HTML. Dale a este div la clase de \"gridFour\". Cree dos divs secundarios y asigne al primero un nombre de clase único y al segundo una identificación. El primer div debe contener una etiqueta de párrafo. El segundo debe contener dos etiquetas de párrafo. GridFour debe tener dos filas del mismo tamaño. Ahora nos ocuparemos de una cuadrícula anidada. Seleccione el segundo div secundario por su ID. Utilice CSS Grid para crear otra cuadrícula en ese div. Debe haber dos columnas de cuadrícula del mismo tamaño. Dale a gridFour un ancho de 500 píxeles y un color de fondo verde.\n",
    "\n",
    "Ejemplo:\n",
    "![Cuadricula4](ejemplos/Cuadricula4.png)\n"
   ]
  },
  {
   "cell_type": "code",
   "execution_count": null,
   "metadata": {
    "vscode": {
     "languageId": "html"
    }
   },
   "outputs": [],
   "source": [
    "<div class=\"gridFour\">\n",
    "  <div class=\"Four\">\n",
    "    <p>My Even More Awesome Text</p>\n",
    "  </div>\n",
    "  <div id=\"Four\">\n",
    "    <p>My left text</p>\n",
    "    <p>My right text</p>\n",
    "  </div>\n",
    "</div>"
   ]
  },
  {
   "cell_type": "code",
   "execution_count": null,
   "metadata": {
    "vscode": {
     "languageId": "html"
    }
   },
   "outputs": [],
   "source": [
    "<style>\n",
    "  .gridFour {\n",
    "    width: 500px;\n",
    "    display: grid;\n",
    "    grid-template-rows: 1fr 1fr;\n",
    "    background-color: green;\n",
    "    margin-top: 10px;\n",
    "  }\n",
    "\n",
    "  .gridFour p {\n",
    "    color: black;\n",
    "    font-weight: bold;\n",
    "  }\n",
    "\n",
    "  #Four {\n",
    "    display: grid;\n",
    "    grid-template-columns: 1fr 1fr;\n",
    "  }\n",
    "</style>\n"
   ]
  },
  {
   "cell_type": "markdown",
   "metadata": {},
   "source": [
    "Cuadrícula 5:\n",
    "\n",
    "    Cree otra cuadrícula siguiendo las mismas instrucciones que en la Cuadrícula 4, con la excepción del segundo div secundario. Dale a este div la clase de \"gridFive\". El segundo div secundario debe tener dos imágenes en lugar de dos etiquetas de párrafo. La primera imagen debe tener el doble de ancho que la segunda. También tendrás que cambiar el tamaño de estas imágenes para que quepan, intenta hacer que cada una tenga 200 píxeles de alto y ancho. Asegúrese de utilizar object-fit: cover; de nuevo.\n",
    "\n",
    "Ejemplo:\n",
    "![Cuadricula5](ejemplos/Cuadricula5.png)\n",
    "\n",
    "Linterna https://unsplash.com/photos/qC117ahi-mE\n",
    "![Linterna](ejemplos/images/Linterna.jpg)\n",
    "\n",
    "Calle https://unsplash.com/photos/_TuI8tZHlk4\n",
    "![Calle](ejemplos/images/Calle.jpg)\n"
   ]
  },
  {
   "cell_type": "code",
   "execution_count": null,
   "metadata": {
    "vscode": {
     "languageId": "html"
    }
   },
   "outputs": [],
   "source": [
    "<div class=\"gridFive\">\n",
    "    <div class=\"Five\">\n",
    "        <p>My Even More Awesome Text</p>\n",
    "    </div>\n",
    "    <div class=\"Five\">\n",
    "        <img src=\"ejemplos/images/Linterna.jpg\" alt=\"\">\n",
    "        <img src=\"ejemplos/images/Calle.jpg\" alt=\"\">\n",
    "    </div>\n",
    "</div>"
   ]
  },
  {
   "cell_type": "code",
   "execution_count": null,
   "metadata": {
    "vscode": {
     "languageId": "html"
    }
   },
   "outputs": [],
   "source": [
    "<style>\n",
    "    .gridFive {\n",
    "        display: grid;\n",
    "        background-color: lightgrey;\n",
    "        grid-template-rows: 1fr 1fr;\n",
    "        width: 500px;\n",
    "        margin-top: 10px;\n",
    "\n",
    "    }\n",
    "\n",
    "    .Five p {\n",
    "        color: black;\n",
    "        font-weight: bold;\n",
    "    }\n",
    "\n",
    "    #Five {\n",
    "        display: grid;\n",
    "        grid-template-columns: 2fr 1fr;\n",
    "        margin-bottom: 20px;\n",
    "        margin-right: 20px;\n",
    "    }\n",
    "\n",
    "    #Five img {\n",
    "        height: 200px;\n",
    "        width: 200px;\n",
    "        object-fit: cover;\n",
    "        float: left;\n",
    "    }\n",
    "</style>"
   ]
  },
  {
   "cell_type": "markdown",
   "metadata": {},
   "source": [
    "Cuadrícula 6:\n",
    "\n",
    "    Crea otra etiqueta div en el mismo archivo HTML. Dale a este div la clase de \"gridSix\". Debería haber dos elementos dentro de gridSix. El primero debe ser un ícono con una fuente increíble de tu elección. El segundo elemento debe ser una etiqueta de párrafo. Elija una fuente de Google y aplíquela a la etiqueta del párrafo. GridSix debería tener dos columnas de plantilla de cuadrícula. La segunda columna, con el párrafo, debe tener tres veces el tamaño de la primera columna con el icono. Dale a gridSix un ancho de 500 px y haz que el color de fondo sea gris claro.\n",
    "\n",
    "Ejemplo:\n",
    "![Cuadricula6](ejemplos/Cuadricula6.png)\n"
   ]
  },
  {
   "cell_type": "code",
   "execution_count": null,
   "metadata": {
    "vscode": {
     "languageId": "html"
    }
   },
   "outputs": [],
   "source": [
    "<div class=\"gridSix\">\n",
    "  <i class=\"fas fa-archive\"></i>\n",
    "  <p>MY AWESOME GOOGLE FONT IS APPLIED HERE</p>\n",
    "</div>"
   ]
  },
  {
   "cell_type": "code",
   "execution_count": null,
   "metadata": {
    "vscode": {
     "languageId": "html"
    }
   },
   "outputs": [],
   "source": [
    "<style>\n",
    "    .gridSix {\n",
    "        display: grid;\n",
    "        background-color: lightgrey;\n",
    "        grid-template-columns: 1fr 3fr;\n",
    "        width: 500px;\n",
    "        margin-top: 10px;\n",
    "    }\n",
    "\n",
    "    .gridSix i {\n",
    "        color: rgba(145, 9, 133, 0.589);\n",
    "        transform: rotate(45deg);\n",
    "        width: 80px;\n",
    "        margin-top: 30px;\n",
    "\n",
    "    }\n",
    "\n",
    "    .gridSix p {\n",
    "        font-family: \"Honk\", sans-serif;\n",
    "    }\n",
    "</style>"
   ]
  },
  {
   "cell_type": "markdown",
   "metadata": {},
   "source": [
    "\\*Las imágenes utilizadas provienen de Unsplash y son de uso gratuito.\n",
    "Hielo https://unsplash.com/photos/hSPVuakrJqs\n",
    "Linterna https://unsplash.com/photos/qC117ahi-mE\n",
    "Calle https://unsplash.com/photos/_TuI8tZHlk4\n"
   ]
  }
 ],
 "metadata": {
  "language_info": {
   "name": "python"
  }
 },
 "nbformat": 4,
 "nbformat_minor": 2
}
